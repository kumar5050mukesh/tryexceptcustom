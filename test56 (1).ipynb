{
 "cells": [
  {
   "cell_type": "code",
   "execution_count": null,
   "id": "1d357946-a467-46a7-b1d0-94e6db7a868f",
   "metadata": {},
   "outputs": [],
   "source": [
    "class checkageinput(Exception ):\n",
    "    def __init__(self,s):\n",
    "        self.s=s\n",
    "        \n",
    "    \n",
    "    def age(self, age):\n",
    "        if age<0:\n",
    "            raise checkageinput('the age is less than zero')\n",
    "        if age>150:\n",
    "            raise checkageinput('the age seems too large')\n",
    "        else:\n",
    "            raise (checkinput('you have entered right age')\n",
    "\n",
    "try:\n",
    "    age= int(input('please enter the age: '))\n",
    "    obj = checkageinput(\"\")\n",
    "    obj.age(age)\n",
    "    \n",
    "except checkageinput as e:\n",
    "    # code to handle the exception\n",
    "    print(e.s)\n"
   ]
  },
  {
   "cell_type": "code",
   "execution_count": null,
   "id": "1a5b6e87-5599-4af6-afdb-a72ce2088b01",
   "metadata": {},
   "outputs": [],
   "source": []
  },
  {
   "cell_type": "code",
   "execution_count": null,
   "id": "cb74e592-80d4-4f75-846a-71621e23fe04",
   "metadata": {},
   "outputs": [],
   "source": []
  }
 ],
 "metadata": {
  "kernelspec": {
   "display_name": "Python 3 (ipykernel)",
   "language": "python",
   "name": "python3"
  },
  "language_info": {
   "codemirror_mode": {
    "name": "ipython",
    "version": 3
   },
   "file_extension": ".py",
   "mimetype": "text/x-python",
   "name": "python",
   "nbconvert_exporter": "python",
   "pygments_lexer": "ipython3",
   "version": "3.10.8"
  }
 },
 "nbformat": 4,
 "nbformat_minor": 5
}
